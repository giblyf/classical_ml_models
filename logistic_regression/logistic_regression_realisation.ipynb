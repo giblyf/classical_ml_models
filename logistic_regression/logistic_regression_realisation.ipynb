{
 "cells": [
  {
   "cell_type": "code",
   "execution_count": 1,
   "id": "52731d98-22b0-4db0-90c5-c4d0b3630d84",
   "metadata": {},
   "outputs": [],
   "source": [
    "import pandas as pd\n",
    "import numpy as np"
   ]
  },
  {
   "cell_type": "code",
   "execution_count": 2,
   "id": "92608aaa-1aac-4d00-8d50-cd5474ff7b07",
   "metadata": {},
   "outputs": [],
   "source": [
    "df = pd.DataFrame({'x':[0.1, 1.3, 2, 2.9, 3.6, 5.1], 'y':[0, 0, 1,0, 1, 1]})"
   ]
  },
  {
   "cell_type": "code",
   "execution_count": 3,
   "id": "880c52c6-6cfc-4389-8cc3-b0df8a1a6a1d",
   "metadata": {},
   "outputs": [
    {
     "data": {
      "text/plain": [
       "<Axes: xlabel='x', ylabel='y'>"
      ]
     },
     "execution_count": 3,
     "metadata": {},
     "output_type": "execute_result"
    },
    {
     "data": {
      "image/png": "[encoded data removed]",
      "text/plain": [
       "<Figure size 640x480 with 1 Axes>"
      ]
     },
     "metadata": {},
     "output_type": "display_data"
    }
   ],
   "source": [
    "df.plot(x='x', y='y', kind='scatter', grid=True)"
   ]
  },
  {
   "cell_type": "code",
   "execution_count": 4,
   "id": "70a72764-1369-44d8-b67a-e38b56e24179",
   "metadata": {},
   "outputs": [
    {
     "data": {
      "application/vnd.jupyter.widget-view+json": {
       "model_id": "f0b6096bf1c346ada440337604ea816c",
       "version_major": 2,
       "version_minor": 0
      },
      "text/plain": [
       "interactive(children=(FloatSlider(value=0.0, description='m', max=2.0, min=-2.0), FloatSlider(value=0.0, descr…"
      ]
     },
     "execution_count": 4,
     "metadata": {},
     "output_type": "execute_result"
    }
   ],
   "source": [
    "from ipywidgets import interactive\n",
    "import matplotlib.pyplot as plt\n",
    "import numpy as np\n",
    "\n",
    "def f(m, b):\n",
    "    plt.figure(2)\n",
    "    x = np.linspace(-10, 10, num=1000)\n",
    "    plt.grid(True)\n",
    "    plt.plot(x, m * x + b)\n",
    "    plt.scatter(df['x'], df['y'])\n",
    "    plt.ylim(-1, 1.1)\n",
    "    plt.xlim(-1, 6)\n",
    "    plt.show()\n",
    "\n",
    "interactive_plot = interactive(f, m=(-2.0, 2.0), b=(-3, 3, 0.5))\n",
    "output = interactive_plot.children[-1]\n",
    "output.layout.height = '350px'\n",
    "interactive_plot"
   ]
  },
  {
   "cell_type": "code",
   "execution_count": 5,
   "id": "bb487e46-f4f2-4827-9d9e-1c8dddc6ea1b",
   "metadata": {},
   "outputs": [],
   "source": [
    "m, b = 0,0"
   ]
  },
  {
   "cell_type": "markdown",
   "id": "c493d139-75a0-44d4-815a-13d0987643eb",
   "metadata": {},
   "source": [
    "## Пробуем через линейную регрессию"
   ]
  },
  {
   "cell_type": "code",
   "execution_count": 42,
   "id": "5b071e06-b3fc-4106-ad13-2a52b2ed6269",
   "metadata": {},
   "outputs": [
    {
     "name": "stdout",
     "output_type": "stream",
     "text": [
      "2.0772299600387405\n",
      "2.0472078406705974\n",
      "2.0236293602458937\n",
      "2.0054963594841424\n",
      "1.9919670892840495\n",
      "1.9823317129898763\n",
      "1.975991645687051\n",
      "1.9724421295415582\n",
      "1.9712575383286763\n"
     ]
    }
   ],
   "source": [
    "n = 100\n",
    "learning_rate = 0.01\n",
    "df['y_pred'] = m * df['x'] + b\n",
    "\n",
    "for _ in range(n):\n",
    "    df['err'] = (df['y'] - df['y_pred'])**2\n",
    "    print(df['err'].mean())\n",
    "   \n",
    "    df['m_change'] = (df['y'] - df['y_pred']) * df['x']\n",
    "    df['b_change'] = -(df['y'] - df['y_pred'])\n",
    "\n",
    "    m += learning_rate * df['m_change'].mean()\n",
    "    b += learning_rate * df['b_change'].mean()\n",
    "\n",
    "    df['y_pred'] = m * df['x'] + b\n",
    "   \n",
    "    if df['err'].mean() < ((df['y'] - df['y_pred'])**2).mean():\n",
    "        m -= learning_rate * df['m_change'].mean()\n",
    "        b -= learning_rate * df['b_change'].mean()\n",
    "        break\n"
   ]
  },
  {
   "cell_type": "code",
   "execution_count": 43,
   "id": "6c0ba0da-3872-4d4e-86ce-d89532818191",
   "metadata": {},
   "outputs": [
    {
     "data": {
      "text/plain": [
       "<matplotlib.collections.PathCollection at 0x163cee310>"
      ]
     },
     "execution_count": 43,
     "metadata": {},
     "output_type": "execute_result"
    },
    {
     "data": {
      "image/png": "[encoded data removed]",
      "text/plain": [
       "<Figure size 640x480 with 1 Axes>"
      ]
     },
     "metadata": {},
     "output_type": "display_data"
    }
   ],
   "source": [
    "plt.plot(df['x'], m * df['x'] + b)\n",
    "plt.scatter(df['x'], df['y'])"
   ]
  },
  {
   "cell_type": "code",
   "execution_count": 44,
   "id": "19f895fa-1ea1-4bc8-bb2e-8b7e403cda9d",
   "metadata": {},
   "outputs": [
    {
     "data": {
      "text/html": [
       "<div>\n",
       "<style scoped>\n",
       "    .dataframe tbody tr th:only-of-type {\n",
       "        vertical-align: middle;\n",
       "    }\n",
       "\n",
       "    .dataframe tbody tr th {\n",
       "        vertical-align: top;\n",
       "    }\n",
       "\n",
       "    .dataframe thead th {\n",
       "        text-align: right;\n",
       "    }\n",
       "</style>\n",
       "<table border=\"1\" class=\"dataframe\">\n",
       "  <thead>\n",
       "    <tr style=\"text-align: right;\">\n",
       "      <th></th>\n",
       "      <th>x</th>\n",
       "      <th>y</th>\n",
       "      <th>y_pred</th>\n",
       "      <th>err</th>\n",
       "      <th>m_change</th>\n",
       "      <th>b_change</th>\n",
       "      <th>lr_pred</th>\n",
       "      <th>l</th>\n",
       "    </tr>\n",
       "  </thead>\n",
       "  <tbody>\n",
       "    <tr>\n",
       "      <th>0</th>\n",
       "      <td>0.1</td>\n",
       "      <td>0</td>\n",
       "      <td>-2.396764</td>\n",
       "      <td>5.714557</td>\n",
       "      <td>0.239051</td>\n",
       "      <td>-2.390514</td>\n",
       "      <td>0.137047</td>\n",
       "      <td>-0.091387</td>\n",
       "    </tr>\n",
       "    <tr>\n",
       "      <th>1</th>\n",
       "      <td>1.3</td>\n",
       "      <td>0</td>\n",
       "      <td>-1.242972</td>\n",
       "      <td>1.513094</td>\n",
       "      <td>1.599102</td>\n",
       "      <td>-1.230079</td>\n",
       "      <td>0.286562</td>\n",
       "      <td>-0.288253</td>\n",
       "    </tr>\n",
       "    <tr>\n",
       "      <th>2</th>\n",
       "      <td>2.0</td>\n",
       "      <td>1</td>\n",
       "      <td>-0.569927</td>\n",
       "      <td>2.412300</td>\n",
       "      <td>3.106316</td>\n",
       "      <td>-1.553158</td>\n",
       "      <td>0.408331</td>\n",
       "      <td>-0.893388</td>\n",
       "    </tr>\n",
       "    <tr>\n",
       "      <th>3</th>\n",
       "      <td>2.9</td>\n",
       "      <td>0</td>\n",
       "      <td>0.295417</td>\n",
       "      <td>0.100596</td>\n",
       "      <td>-0.919788</td>\n",
       "      <td>0.317168</td>\n",
       "      <td>0.580555</td>\n",
       "      <td>-1.018679</td>\n",
       "    </tr>\n",
       "    <tr>\n",
       "      <th>4</th>\n",
       "      <td>3.6</td>\n",
       "      <td>1</td>\n",
       "      <td>0.968462</td>\n",
       "      <td>0.000035</td>\n",
       "      <td>0.021281</td>\n",
       "      <td>-0.005911</td>\n",
       "      <td>0.703981</td>\n",
       "      <td>-0.240998</td>\n",
       "    </tr>\n",
       "    <tr>\n",
       "      <th>5</th>\n",
       "      <td>5.1</td>\n",
       "      <td>1</td>\n",
       "      <td>2.410702</td>\n",
       "      <td>2.086964</td>\n",
       "      <td>-7.367627</td>\n",
       "      <td>1.444633</td>\n",
       "      <td>0.883520</td>\n",
       "      <td>-0.055532</td>\n",
       "    </tr>\n",
       "  </tbody>\n",
       "</table>\n",
       "</div>"
      ],
      "text/plain": [
       "     x  y    y_pred       err  m_change  b_change   lr_pred         l\n",
       "0  0.1  0 -2.396764  5.714557  0.239051 -2.390514  0.137047 -0.091387\n",
       "1  1.3  0 -1.242972  1.513094  1.599102 -1.230079  0.286562 -0.288253\n",
       "2  2.0  1 -0.569927  2.412300  3.106316 -1.553158  0.408331 -0.893388\n",
       "3  2.9  0  0.295417  0.100596 -0.919788  0.317168  0.580555 -1.018679\n",
       "4  3.6  1  0.968462  0.000035  0.021281 -0.005911  0.703981 -0.240998\n",
       "5  5.1  1  2.410702  2.086964 -7.367627  1.444633  0.883520 -0.055532"
      ]
     },
     "execution_count": 44,
     "metadata": {},
     "output_type": "execute_result"
    }
   ],
   "source": [
    "df"
   ]
  },
  {
   "cell_type": "code",
   "execution_count": 45,
   "id": "d4263449-d67f-49cd-a26c-419ee31d5e29",
   "metadata": {},
   "outputs": [],
   "source": [
    "from sklearn.metrics import roc_auc_score"
   ]
  },
  {
   "cell_type": "code",
   "execution_count": 46,
   "id": "965e97f9-d13b-4cc5-80ba-2a7819fd53ee",
   "metadata": {},
   "outputs": [
    {
     "data": {
      "image/png": "[encoded data removed]",
      "text/latex": [
       "$\\displaystyle 0.888888888888889$"
      ],
      "text/plain": [
       "0.888888888888889"
      ]
     },
     "execution_count": 46,
     "metadata": {},
     "output_type": "execute_result"
    }
   ],
   "source": [
    "roc_auc_score(df['y'], df['y_pred'])"
   ]
  },
  {
   "cell_type": "code",
   "execution_count": 47,
   "id": "57bafca7-dcad-4347-9df3-3d1ea7b34fb8",
   "metadata": {},
   "outputs": [
    {
     "data": {
      "text/html": [
       "<div>\n",
       "<style scoped>\n",
       "    .dataframe tbody tr th:only-of-type {\n",
       "        vertical-align: middle;\n",
       "    }\n",
       "\n",
       "    .dataframe tbody tr th {\n",
       "        vertical-align: top;\n",
       "    }\n",
       "\n",
       "    .dataframe thead th {\n",
       "        text-align: right;\n",
       "    }\n",
       "</style>\n",
       "<table border=\"1\" class=\"dataframe\">\n",
       "  <thead>\n",
       "    <tr style=\"text-align: right;\">\n",
       "      <th></th>\n",
       "      <th>x</th>\n",
       "      <th>y</th>\n",
       "      <th>y_pred</th>\n",
       "      <th>err</th>\n",
       "      <th>m_change</th>\n",
       "      <th>b_change</th>\n",
       "      <th>lr_pred</th>\n",
       "      <th>l</th>\n",
       "    </tr>\n",
       "  </thead>\n",
       "  <tbody>\n",
       "    <tr>\n",
       "      <th>0</th>\n",
       "      <td>0.1</td>\n",
       "      <td>0</td>\n",
       "      <td>-2.396764</td>\n",
       "      <td>5.714557</td>\n",
       "      <td>0.239051</td>\n",
       "      <td>-2.390514</td>\n",
       "      <td>0.137047</td>\n",
       "      <td>-0.091387</td>\n",
       "    </tr>\n",
       "    <tr>\n",
       "      <th>1</th>\n",
       "      <td>1.3</td>\n",
       "      <td>0</td>\n",
       "      <td>-1.242972</td>\n",
       "      <td>1.513094</td>\n",
       "      <td>1.599102</td>\n",
       "      <td>-1.230079</td>\n",
       "      <td>0.286562</td>\n",
       "      <td>-0.288253</td>\n",
       "    </tr>\n",
       "    <tr>\n",
       "      <th>2</th>\n",
       "      <td>2.0</td>\n",
       "      <td>1</td>\n",
       "      <td>-0.569927</td>\n",
       "      <td>2.412300</td>\n",
       "      <td>3.106316</td>\n",
       "      <td>-1.553158</td>\n",
       "      <td>0.408331</td>\n",
       "      <td>-0.893388</td>\n",
       "    </tr>\n",
       "    <tr>\n",
       "      <th>3</th>\n",
       "      <td>2.9</td>\n",
       "      <td>0</td>\n",
       "      <td>0.295417</td>\n",
       "      <td>0.100596</td>\n",
       "      <td>-0.919788</td>\n",
       "      <td>0.317168</td>\n",
       "      <td>0.580555</td>\n",
       "      <td>-1.018679</td>\n",
       "    </tr>\n",
       "    <tr>\n",
       "      <th>4</th>\n",
       "      <td>3.6</td>\n",
       "      <td>1</td>\n",
       "      <td>0.968462</td>\n",
       "      <td>0.000035</td>\n",
       "      <td>0.021281</td>\n",
       "      <td>-0.005911</td>\n",
       "      <td>0.703981</td>\n",
       "      <td>-0.240998</td>\n",
       "    </tr>\n",
       "    <tr>\n",
       "      <th>5</th>\n",
       "      <td>5.1</td>\n",
       "      <td>1</td>\n",
       "      <td>2.410702</td>\n",
       "      <td>2.086964</td>\n",
       "      <td>-7.367627</td>\n",
       "      <td>1.444633</td>\n",
       "      <td>0.883520</td>\n",
       "      <td>-0.055532</td>\n",
       "    </tr>\n",
       "  </tbody>\n",
       "</table>\n",
       "</div>"
      ],
      "text/plain": [
       "     x  y    y_pred       err  m_change  b_change   lr_pred         l\n",
       "0  0.1  0 -2.396764  5.714557  0.239051 -2.390514  0.137047 -0.091387\n",
       "1  1.3  0 -1.242972  1.513094  1.599102 -1.230079  0.286562 -0.288253\n",
       "2  2.0  1 -0.569927  2.412300  3.106316 -1.553158  0.408331 -0.893388\n",
       "3  2.9  0  0.295417  0.100596 -0.919788  0.317168  0.580555 -1.018679\n",
       "4  3.6  1  0.968462  0.000035  0.021281 -0.005911  0.703981 -0.240998\n",
       "5  5.1  1  2.410702  2.086964 -7.367627  1.444633  0.883520 -0.055532"
      ]
     },
     "execution_count": 47,
     "metadata": {},
     "output_type": "execute_result"
    }
   ],
   "source": [
    "df"
   ]
  },
  {
   "cell_type": "code",
   "execution_count": 48,
   "id": "f84210bc-0853-4e19-af27-8ac8b390f5bb",
   "metadata": {},
   "outputs": [],
   "source": [
    "from sklearn.linear_model import LogisticRegression"
   ]
  },
  {
   "cell_type": "code",
   "execution_count": 49,
   "id": "95e8b119-9337-4c50-b672-07735c13120b",
   "metadata": {},
   "outputs": [],
   "source": [
    "lr = LogisticRegression()"
   ]
  },
  {
   "cell_type": "code",
   "execution_count": 50,
   "id": "009cabad-26f5-4ec5-8597-5e9f3752a4dc",
   "metadata": {},
   "outputs": [
    {
     "data": {
      "text/html": [
       "<style>#sk-container-id-3 {color: black;}#sk-container-id-3 pre{padding: 0;}#sk-container-id-3 div.sk-toggleable {background-color: white;}#sk-container-id-3 label.sk-toggleable__label {cursor: pointer;display: block;width: 100%;margin-bottom: 0;padding: 0.3em;box-sizing: border-box;text-align: center;}#sk-container-id-3 label.sk-toggleable__label-arrow:before {content: \"▸\";float: left;margin-right: 0.25em;color: #696969;}#sk-container-id-3 label.sk-toggleable__label-arrow:hover:before {color: black;}#sk-container-id-3 div.sk-estimator:hover label.sk-toggleable__label-arrow:before {color: black;}#sk-container-id-3 div.sk-toggleable__content {max-height: 0;max-width: 0;overflow: hidden;text-align: left;background-color: #f0f8ff;}#sk-container-id-3 div.sk-toggleable__content pre {margin: 0.2em;color: black;border-radius: 0.25em;background-color: #f0f8ff;}#sk-container-id-3 input.sk-toggleable__control:checked~div.sk-toggleable__content {max-height: 200px;max-width: 100%;overflow: auto;}#sk-container-id-3 input.sk-toggleable__control:checked~label.sk-toggleable__label-arrow:before {content: \"▾\";}#sk-container-id-3 div.sk-estimator input.sk-toggleable__control:checked~label.sk-toggleable__label {background-color: #d4ebff;}#sk-container-id-3 div.sk-label input.sk-toggleable__control:checked~label.sk-toggleable__label {background-color: #d4ebff;}#sk-container-id-3 input.sk-hidden--visually {border: 0;clip: rect(1px 1px 1px 1px);clip: rect(1px, 1px, 1px, 1px);height: 1px;margin: -1px;overflow: hidden;padding: 0;position: absolute;width: 1px;}#sk-container-id-3 div.sk-estimator {font-family: monospace;background-color: #f0f8ff;border: 1px dotted black;border-radius: 0.25em;box-sizing: border-box;margin-bottom: 0.5em;}#sk-container-id-3 div.sk-estimator:hover {background-color: #d4ebff;}#sk-container-id-3 div.sk-parallel-item::after {content: \"\";width: 100%;border-bottom: 1px solid gray;flex-grow: 1;}#sk-container-id-3 div.sk-label:hover label.sk-toggleable__label {background-color: #d4ebff;}#sk-container-id-3 div.sk-serial::before {content: \"\";position: absolute;border-left: 1px solid gray;box-sizing: border-box;top: 0;bottom: 0;left: 50%;z-index: 0;}#sk-container-id-3 div.sk-serial {display: flex;flex-direction: column;align-items: center;background-color: white;padding-right: 0.2em;padding-left: 0.2em;position: relative;}#sk-container-id-3 div.sk-item {position: relative;z-index: 1;}#sk-container-id-3 div.sk-parallel {display: flex;align-items: stretch;justify-content: center;background-color: white;position: relative;}#sk-container-id-3 div.sk-item::before, #sk-container-id-3 div.sk-parallel-item::before {content: \"\";position: absolute;border-left: 1px solid gray;box-sizing: border-box;top: 0;bottom: 0;left: 50%;z-index: -1;}#sk-container-id-3 div.sk-parallel-item {display: flex;flex-direction: column;z-index: 1;position: relative;background-color: white;}#sk-container-id-3 div.sk-parallel-item:first-child::after {align-self: flex-end;width: 50%;}#sk-container-id-3 div.sk-parallel-item:last-child::after {align-self: flex-start;width: 50%;}#sk-container-id-3 div.sk-parallel-item:only-child::after {width: 0;}#sk-container-id-3 div.sk-dashed-wrapped {border: 1px dashed gray;margin: 0 0.4em 0.5em 0.4em;box-sizing: border-box;padding-bottom: 0.4em;background-color: white;}#sk-container-id-3 div.sk-label label {font-family: monospace;font-weight: bold;display: inline-block;line-height: 1.2em;}#sk-container-id-3 div.sk-label-container {text-align: center;}#sk-container-id-3 div.sk-container {/* jupyter's `normalize.less` sets `[hidden] { display: none; }` but bootstrap.min.css set `[hidden] { display: none !important; }` so we also need the `!important` here to be able to override the default hidden behavior on the sphinx rendered scikit-learn.org. See: https://github.com/scikit-learn/scikit-learn/issues/21755 */display: inline-block !important;position: relative;}#sk-container-id-3 div.sk-text-repr-fallback {display: none;}</style><div id=\"sk-container-id-3\" class=\"sk-top-container\"><div class=\"sk-text-repr-fallback\"><pre>LogisticRegression()</pre><b>In a Jupyter environment, please rerun this cell to show the HTML representation or trust the notebook. <br />On GitHub, the HTML representation is unable to render, please try loading this page with nbviewer.org.</b></div><div class=\"sk-container\" hidden><div class=\"sk-item\"><div class=\"sk-estimator sk-toggleable\"><input class=\"sk-toggleable__control sk-hidden--visually\" id=\"sk-estimator-id-3\" type=\"checkbox\" checked><label for=\"sk-estimator-id-3\" class=\"sk-toggleable__label sk-toggleable__label-arrow\">LogisticRegression</label><div class=\"sk-toggleable__content\"><pre>LogisticRegression()</pre></div></div></div></div></div>"
      ],
      "text/plain": [
       "LogisticRegression()"
      ]
     },
     "execution_count": 50,
     "metadata": {},
     "output_type": "execute_result"
    }
   ],
   "source": [
    "lr.fit(df[['x']], df['y'])"
   ]
  },
  {
   "cell_type": "code",
   "execution_count": 51,
   "id": "fd721d9f-369b-4644-964d-1c3835b0ba74",
   "metadata": {},
   "outputs": [],
   "source": [
    "df['lr_pred'] = lr.predict_proba(df[['x']])[:,1]"
   ]
  },
  {
   "cell_type": "code",
   "execution_count": 52,
   "id": "92df771f-5632-4134-8a0d-1d3a678f1396",
   "metadata": {},
   "outputs": [
    {
     "data": {
      "text/html": [
       "<div>\n",
       "<style scoped>\n",
       "    .dataframe tbody tr th:only-of-type {\n",
       "        vertical-align: middle;\n",
       "    }\n",
       "\n",
       "    .dataframe tbody tr th {\n",
       "        vertical-align: top;\n",
       "    }\n",
       "\n",
       "    .dataframe thead th {\n",
       "        text-align: right;\n",
       "    }\n",
       "</style>\n",
       "<table border=\"1\" class=\"dataframe\">\n",
       "  <thead>\n",
       "    <tr style=\"text-align: right;\">\n",
       "      <th></th>\n",
       "      <th>x</th>\n",
       "      <th>y</th>\n",
       "      <th>y_pred</th>\n",
       "      <th>err</th>\n",
       "      <th>m_change</th>\n",
       "      <th>b_change</th>\n",
       "      <th>lr_pred</th>\n",
       "      <th>l</th>\n",
       "    </tr>\n",
       "  </thead>\n",
       "  <tbody>\n",
       "    <tr>\n",
       "      <th>0</th>\n",
       "      <td>0.1</td>\n",
       "      <td>0</td>\n",
       "      <td>-2.396764</td>\n",
       "      <td>5.714557</td>\n",
       "      <td>0.239051</td>\n",
       "      <td>-2.390514</td>\n",
       "      <td>0.137047</td>\n",
       "      <td>-0.091387</td>\n",
       "    </tr>\n",
       "    <tr>\n",
       "      <th>1</th>\n",
       "      <td>1.3</td>\n",
       "      <td>0</td>\n",
       "      <td>-1.242972</td>\n",
       "      <td>1.513094</td>\n",
       "      <td>1.599102</td>\n",
       "      <td>-1.230079</td>\n",
       "      <td>0.286562</td>\n",
       "      <td>-0.288253</td>\n",
       "    </tr>\n",
       "    <tr>\n",
       "      <th>2</th>\n",
       "      <td>2.0</td>\n",
       "      <td>1</td>\n",
       "      <td>-0.569927</td>\n",
       "      <td>2.412300</td>\n",
       "      <td>3.106316</td>\n",
       "      <td>-1.553158</td>\n",
       "      <td>0.408331</td>\n",
       "      <td>-0.893388</td>\n",
       "    </tr>\n",
       "    <tr>\n",
       "      <th>3</th>\n",
       "      <td>2.9</td>\n",
       "      <td>0</td>\n",
       "      <td>0.295417</td>\n",
       "      <td>0.100596</td>\n",
       "      <td>-0.919788</td>\n",
       "      <td>0.317168</td>\n",
       "      <td>0.580555</td>\n",
       "      <td>-1.018679</td>\n",
       "    </tr>\n",
       "    <tr>\n",
       "      <th>4</th>\n",
       "      <td>3.6</td>\n",
       "      <td>1</td>\n",
       "      <td>0.968462</td>\n",
       "      <td>0.000035</td>\n",
       "      <td>0.021281</td>\n",
       "      <td>-0.005911</td>\n",
       "      <td>0.703981</td>\n",
       "      <td>-0.240998</td>\n",
       "    </tr>\n",
       "    <tr>\n",
       "      <th>5</th>\n",
       "      <td>5.1</td>\n",
       "      <td>1</td>\n",
       "      <td>2.410702</td>\n",
       "      <td>2.086964</td>\n",
       "      <td>-7.367627</td>\n",
       "      <td>1.444633</td>\n",
       "      <td>0.883520</td>\n",
       "      <td>-0.055532</td>\n",
       "    </tr>\n",
       "  </tbody>\n",
       "</table>\n",
       "</div>"
      ],
      "text/plain": [
       "     x  y    y_pred       err  m_change  b_change   lr_pred         l\n",
       "0  0.1  0 -2.396764  5.714557  0.239051 -2.390514  0.137047 -0.091387\n",
       "1  1.3  0 -1.242972  1.513094  1.599102 -1.230079  0.286562 -0.288253\n",
       "2  2.0  1 -0.569927  2.412300  3.106316 -1.553158  0.408331 -0.893388\n",
       "3  2.9  0  0.295417  0.100596 -0.919788  0.317168  0.580555 -1.018679\n",
       "4  3.6  1  0.968462  0.000035  0.021281 -0.005911  0.703981 -0.240998\n",
       "5  5.1  1  2.410702  2.086964 -7.367627  1.444633  0.883520 -0.055532"
      ]
     },
     "execution_count": 52,
     "metadata": {},
     "output_type": "execute_result"
    }
   ],
   "source": [
    "df"
   ]
  },
  {
   "cell_type": "code",
   "execution_count": 53,
   "id": "bad13af9-577b-477d-93b3-ef3c76eeb4f1",
   "metadata": {},
   "outputs": [
    {
     "data": {
      "image/png": "[encoded data removed]",
      "text/latex": [
       "$\\displaystyle 0.888888888888889$"
      ],
      "text/plain": [
       "0.888888888888889"
      ]
     },
     "execution_count": 53,
     "metadata": {},
     "output_type": "execute_result"
    }
   ],
   "source": [
    "roc_auc_score(df['y'], df['lr_pred'])"
   ]
  },
  {
   "cell_type": "code",
   "execution_count": 54,
   "id": "a10113cd-8b8b-47ac-a48e-1ed68934e634",
   "metadata": {},
   "outputs": [
    {
     "data": {
      "text/html": [
       "<div>\n",
       "<style scoped>\n",
       "    .dataframe tbody tr th:only-of-type {\n",
       "        vertical-align: middle;\n",
       "    }\n",
       "\n",
       "    .dataframe tbody tr th {\n",
       "        vertical-align: top;\n",
       "    }\n",
       "\n",
       "    .dataframe thead th {\n",
       "        text-align: right;\n",
       "    }\n",
       "</style>\n",
       "<table border=\"1\" class=\"dataframe\">\n",
       "  <thead>\n",
       "    <tr style=\"text-align: right;\">\n",
       "      <th></th>\n",
       "      <th>x</th>\n",
       "      <th>y</th>\n",
       "      <th>y_pred</th>\n",
       "      <th>lr_pred</th>\n",
       "    </tr>\n",
       "  </thead>\n",
       "  <tbody>\n",
       "    <tr>\n",
       "      <th>0</th>\n",
       "      <td>0.1</td>\n",
       "      <td>0</td>\n",
       "      <td>-2.396764</td>\n",
       "      <td>0.137047</td>\n",
       "    </tr>\n",
       "    <tr>\n",
       "      <th>1</th>\n",
       "      <td>1.3</td>\n",
       "      <td>0</td>\n",
       "      <td>-1.242972</td>\n",
       "      <td>0.286562</td>\n",
       "    </tr>\n",
       "    <tr>\n",
       "      <th>2</th>\n",
       "      <td>2.0</td>\n",
       "      <td>1</td>\n",
       "      <td>-0.569927</td>\n",
       "      <td>0.408331</td>\n",
       "    </tr>\n",
       "    <tr>\n",
       "      <th>3</th>\n",
       "      <td>2.9</td>\n",
       "      <td>0</td>\n",
       "      <td>0.295417</td>\n",
       "      <td>0.580555</td>\n",
       "    </tr>\n",
       "    <tr>\n",
       "      <th>4</th>\n",
       "      <td>3.6</td>\n",
       "      <td>1</td>\n",
       "      <td>0.968462</td>\n",
       "      <td>0.703981</td>\n",
       "    </tr>\n",
       "    <tr>\n",
       "      <th>5</th>\n",
       "      <td>5.1</td>\n",
       "      <td>1</td>\n",
       "      <td>2.410702</td>\n",
       "      <td>0.883520</td>\n",
       "    </tr>\n",
       "  </tbody>\n",
       "</table>\n",
       "</div>"
      ],
      "text/plain": [
       "     x  y    y_pred   lr_pred\n",
       "0  0.1  0 -2.396764  0.137047\n",
       "1  1.3  0 -1.242972  0.286562\n",
       "2  2.0  1 -0.569927  0.408331\n",
       "3  2.9  0  0.295417  0.580555\n",
       "4  3.6  1  0.968462  0.703981\n",
       "5  5.1  1  2.410702  0.883520"
      ]
     },
     "execution_count": 54,
     "metadata": {},
     "output_type": "execute_result"
    }
   ],
   "source": [
    "df[['x', 'y', 'y_pred', 'lr_pred']]"
   ]
  },
  {
   "cell_type": "code",
   "execution_count": 55,
   "id": "af9b4692-9737-4ce0-a3c2-3fb11f58cca9",
   "metadata": {},
   "outputs": [
    {
     "data": {
      "application/vnd.jupyter.widget-view+json": {
       "model_id": "6bc5b737244646cf8368ba3a4c1cf593",
       "version_major": 2,
       "version_minor": 0
      },
      "text/plain": [
       "interactive(children=(FloatSlider(value=0.0, description='m', max=2.0, min=-2.0), FloatSlider(value=0.0, descr…"
      ]
     },
     "execution_count": 55,
     "metadata": {},
     "output_type": "execute_result"
    }
   ],
   "source": [
    "from ipywidgets import interactive\n",
    "import matplotlib.pyplot as plt\n",
    "import numpy as np\n",
    "\n",
    "def f(m, b):\n",
    "    plt.figure(2)\n",
    "    x = np.linspace(-10, 10, num=1000)\n",
    "    plt.grid(True)\n",
    "    plt.plot(x, 1 / (1 + np.exp(-(m * x + b))))\n",
    "    plt.scatter(df['x'], df['y'])\n",
    "    plt.ylim(-1, 1.1)\n",
    "    plt.xlim(-1, 6)\n",
    "    plt.show()\n",
    "\n",
    "interactive_plot = interactive(f, m=(-2.0, 2.0), b=(-3, 3, 0.5))\n",
    "output = interactive_plot.children[-1]\n",
    "output.layout.height = '350px'\n",
    "interactive_plot"
   ]
  },
  {
   "cell_type": "code",
   "execution_count": 56,
   "id": "8044f1b1-f624-49ff-8a80-f20dbfd67d62",
   "metadata": {},
   "outputs": [],
   "source": [
    "from sympy import *"
   ]
  },
  {
   "cell_type": "code",
   "execution_count": 57,
   "id": "7cfc2a28-38f3-412e-9a41-9b9c4d5db6be",
   "metadata": {},
   "outputs": [],
   "source": [
    "x_ = Symbol('x', real=True)\n",
    "y_ = Symbol('y', real=True)\n",
    "m_ = Symbol('m', real=True)\n",
    "b_ = Symbol('b', real=True)"
   ]
  },
  {
   "cell_type": "code",
   "execution_count": 58,
   "id": "1b48dda5-9be9-4e52-a1f5-03b7d2c47a60",
   "metadata": {},
   "outputs": [],
   "source": [
    "e = Pow(y_ - 1/(1 + exp(-m_*x_ - b_)),2)"
   ]
  },
  {
   "cell_type": "code",
   "execution_count": 59,
   "id": "aab1df2c-d9a2-4c85-9c1f-c495c4c0c48f",
   "metadata": {},
   "outputs": [
    {
     "data": {
      "image/png": "[encoded data removed]",
      "text/latex": [
       "$\\displaystyle - \\frac{2 x \\left(y - \\frac{1}{e^{- b - m x} + 1}\\right) e^{- b - m x}}{\\left(e^{- b - m x} + 1\\right)^{2}}$"
      ],
      "text/plain": [
       "     ⎛          1      ⎞  -b - m⋅x \n",
       "-2⋅x⋅⎜y - ─────────────⎟⋅ℯ         \n",
       "     ⎜     -b - m⋅x    ⎟           \n",
       "     ⎝    ℯ         + 1⎠           \n",
       "───────────────────────────────────\n",
       "                         2         \n",
       "          ⎛ -b - m⋅x    ⎞          \n",
       "          ⎝ℯ         + 1⎠          "
      ]
     },
     "execution_count": 59,
     "metadata": {},
     "output_type": "execute_result"
    }
   ],
   "source": [
    "diff(e, m_)"
   ]
  },
  {
   "cell_type": "code",
   "execution_count": 60,
   "id": "405890fe-ac3c-403c-9f0e-f619c63c20de",
   "metadata": {},
   "outputs": [
    {
     "data": {
      "image/png": "[encoded data removed]",
      "text/latex": [
       "$\\displaystyle - \\frac{2 \\left(y - \\frac{1}{e^{- b - m x} + 1}\\right) e^{- b - m x}}{\\left(e^{- b - m x} + 1\\right)^{2}}$"
      ],
      "text/plain": [
       "   ⎛          1      ⎞  -b - m⋅x \n",
       "-2⋅⎜y - ─────────────⎟⋅ℯ         \n",
       "   ⎜     -b - m⋅x    ⎟           \n",
       "   ⎝    ℯ         + 1⎠           \n",
       "─────────────────────────────────\n",
       "                        2        \n",
       "         ⎛ -b - m⋅x    ⎞         \n",
       "         ⎝ℯ         + 1⎠         "
      ]
     },
     "execution_count": 60,
     "metadata": {},
     "output_type": "execute_result"
    }
   ],
   "source": [
    "diff(e, b_)"
   ]
  },
  {
   "cell_type": "code",
   "execution_count": 61,
   "id": "6775c28b-3fed-4a37-801d-5bd1fa592ec5",
   "metadata": {},
   "outputs": [],
   "source": [
    "init_printing(use_latex=True)"
   ]
  },
  {
   "cell_type": "code",
   "execution_count": 62,
   "id": "df2a2908-aa11-45fc-9645-d6457c31a111",
   "metadata": {},
   "outputs": [
    {
     "data": {
      "text/plain": [
       "'-2*x*(y - 1/(exp(-b - m*x) + 1))*exp(-b - m*x)/(exp(-b - m*x) + 1)**2'"
      ]
     },
     "execution_count": 62,
     "metadata": {},
     "output_type": "execute_result"
    }
   ],
   "source": [
    "str(diff(e, m_))"
   ]
  },
  {
   "cell_type": "code",
   "execution_count": 63,
   "id": "b2377a55-a227-48c6-98ac-ba58779996bf",
   "metadata": {},
   "outputs": [
    {
     "data": {
      "text/plain": [
       "'-2*(y - 1/(exp(-b - m*x) + 1))*exp(-b - m*x)/(exp(-b - m*x) + 1)**2'"
      ]
     },
     "execution_count": 63,
     "metadata": {},
     "output_type": "execute_result"
    }
   ],
   "source": [
    "str(diff(e, b_))"
   ]
  },
  {
   "cell_type": "code",
   "execution_count": 64,
   "id": "1bd42b63-2dad-4423-9e60-64bb11bbff35",
   "metadata": {},
   "outputs": [
    {
     "name": "stdout",
     "output_type": "stream",
     "text": [
      "0.39200233067975393\n",
      "0.3822236125995122\n",
      "0.3704113020289593\n",
      "0.3558256958806087\n",
      "0.33742032774382585\n"
     ]
    }
   ],
   "source": [
    "df = df[['x', 'y']].copy()\n",
    "m, b = 1,1\n",
    "n = 500\n",
    "learning_rate = 0.01\n",
    "df['y_pred'] = 1 / (1 + np.exp(-(m * df['x'] + b)))\n",
    "\n",
    "for i in range(n):\n",
    "    df['err'] = (df['y'] - df['y_pred'])**2\n",
    "\n",
    "    if not i % 100:\n",
    "        print(df['err'].mean())\n",
    "   \n",
    "    df['m_change'] = 2*df['x']*(df['y'] - 1/(np.exp(-b - m*df['x']) + 1))*np.exp(-b - m*df['x'])/(np.exp(-b - m*df['x']) + 1)**2\n",
    "    df['b_change'] = 2*(df['y'] - 1/(np.exp(-b - m*df['x']) + 1))*np.exp(-b - m*df['x'])/(np.exp(-b - m*df['x']) + 1)**2\n",
    "\n",
    "    m += learning_rate * df['m_change'].mean()\n",
    "    b += learning_rate * df['b_change'].mean()\n",
    "\n",
    "    df['y_pred'] = 1 / (1 + np.exp(-(m * df['x'] + b)))\n",
    "   \n",
    "    if df['err'].mean() < ((df['y'] - df['y_pred'])**2).mean():\n",
    "        m -= learning_rate * df['m_change'].mean()\n",
    "        b -= learning_rate * df['b_change'].mean()\n",
    "        break\n"
   ]
  },
  {
   "cell_type": "code",
   "execution_count": 65,
   "id": "de0eb8b9-a3b0-4301-ab44-45f3a0f53535",
   "metadata": {},
   "outputs": [
    {
     "data": {
      "text/plain": [
       "<matplotlib.collections.PathCollection at 0x164d87090>"
      ]
     },
     "execution_count": 65,
     "metadata": {},
     "output_type": "execute_result"
    },
    {
     "data": {
      "image/png": "[encoded data removed]",
      "text/plain": [
       "<Figure size 640x480 with 1 Axes>"
      ]
     },
     "metadata": {},
     "output_type": "display_data"
    }
   ],
   "source": [
    "x = np.linspace(-10, 10, num=1000)\n",
    "plt.grid(True)\n",
    "plt.plot(x, 1 / (1 + np.exp(-(m * x + b))))\n",
    "plt.scatter(df['x'], df['y'])"
   ]
  },
  {
   "cell_type": "code",
   "execution_count": 66,
   "id": "cf9c422f-6e5e-46ca-b58e-4a8c85cbfc7c",
   "metadata": {},
   "outputs": [
    {
     "data": {
      "text/html": [
       "<div>\n",
       "<style scoped>\n",
       "    .dataframe tbody tr th:only-of-type {\n",
       "        vertical-align: middle;\n",
       "    }\n",
       "\n",
       "    .dataframe tbody tr th {\n",
       "        vertical-align: top;\n",
       "    }\n",
       "\n",
       "    .dataframe thead th {\n",
       "        text-align: right;\n",
       "    }\n",
       "</style>\n",
       "<table border=\"1\" class=\"dataframe\">\n",
       "  <thead>\n",
       "    <tr style=\"text-align: right;\">\n",
       "      <th></th>\n",
       "      <th>x</th>\n",
       "      <th>y</th>\n",
       "      <th>y_pred</th>\n",
       "      <th>err</th>\n",
       "      <th>m_change</th>\n",
       "      <th>b_change</th>\n",
       "    </tr>\n",
       "  </thead>\n",
       "  <tbody>\n",
       "    <tr>\n",
       "      <th>0</th>\n",
       "      <td>0.1</td>\n",
       "      <td>0</td>\n",
       "      <td>0.644681</td>\n",
       "      <td>0.415976</td>\n",
       "      <td>-0.029537</td>\n",
       "      <td>-0.295375</td>\n",
       "    </tr>\n",
       "    <tr>\n",
       "      <th>1</th>\n",
       "      <td>1.3</td>\n",
       "      <td>0</td>\n",
       "      <td>0.787555</td>\n",
       "      <td>0.620939</td>\n",
       "      <td>-0.342267</td>\n",
       "      <td>-0.263282</td>\n",
       "    </tr>\n",
       "    <tr>\n",
       "      <th>2</th>\n",
       "      <td>2.0</td>\n",
       "      <td>1</td>\n",
       "      <td>0.849035</td>\n",
       "      <td>0.022657</td>\n",
       "      <td>0.076986</td>\n",
       "      <td>0.038493</td>\n",
       "    </tr>\n",
       "    <tr>\n",
       "      <th>3</th>\n",
       "      <td>2.9</td>\n",
       "      <td>0</td>\n",
       "      <td>0.905760</td>\n",
       "      <td>0.821100</td>\n",
       "      <td>-0.446969</td>\n",
       "      <td>-0.154127</td>\n",
       "    </tr>\n",
       "    <tr>\n",
       "      <th>4</th>\n",
       "      <td>3.6</td>\n",
       "      <td>1</td>\n",
       "      <td>0.935820</td>\n",
       "      <td>0.004078</td>\n",
       "      <td>0.027487</td>\n",
       "      <td>0.007635</td>\n",
       "    </tr>\n",
       "    <tr>\n",
       "      <th>5</th>\n",
       "      <td>5.1</td>\n",
       "      <td>1</td>\n",
       "      <td>0.972692</td>\n",
       "      <td>0.000735</td>\n",
       "      <td>0.007299</td>\n",
       "      <td>0.001431</td>\n",
       "    </tr>\n",
       "  </tbody>\n",
       "</table>\n",
       "</div>"
      ],
      "text/plain": [
       "     x  y    y_pred       err  m_change  b_change\n",
       "0  0.1  0  0.644681  0.415976 -0.029537 -0.295375\n",
       "1  1.3  0  0.787555  0.620939 -0.342267 -0.263282\n",
       "2  2.0  1  0.849035  0.022657  0.076986  0.038493\n",
       "3  2.9  0  0.905760  0.821100 -0.446969 -0.154127\n",
       "4  3.6  1  0.935820  0.004078  0.027487  0.007635\n",
       "5  5.1  1  0.972692  0.000735  0.007299  0.001431"
      ]
     },
     "execution_count": 66,
     "metadata": {},
     "output_type": "execute_result"
    }
   ],
   "source": [
    "df"
   ]
  },
  {
   "cell_type": "code",
   "execution_count": 67,
   "id": "670a3dd9-5aa6-47c4-b85c-658a047d24cc",
   "metadata": {},
   "outputs": [],
   "source": [
    "lr = LogisticRegression()"
   ]
  },
  {
   "cell_type": "code",
   "execution_count": 68,
   "id": "2cbe90e3-7df2-4d31-94a9-f2c0483c36dc",
   "metadata": {},
   "outputs": [
    {
     "data": {
      "text/html": [
       "<style>#sk-container-id-4 {color: black;}#sk-container-id-4 pre{padding: 0;}#sk-container-id-4 div.sk-toggleable {background-color: white;}#sk-container-id-4 label.sk-toggleable__label {cursor: pointer;display: block;width: 100%;margin-bottom: 0;padding: 0.3em;box-sizing: border-box;text-align: center;}#sk-container-id-4 label.sk-toggleable__label-arrow:before {content: \"▸\";float: left;margin-right: 0.25em;color: #696969;}#sk-container-id-4 label.sk-toggleable__label-arrow:hover:before {color: black;}#sk-container-id-4 div.sk-estimator:hover label.sk-toggleable__label-arrow:before {color: black;}#sk-container-id-4 div.sk-toggleable__content {max-height: 0;max-width: 0;overflow: hidden;text-align: left;background-color: #f0f8ff;}#sk-container-id-4 div.sk-toggleable__content pre {margin: 0.2em;color: black;border-radius: 0.25em;background-color: #f0f8ff;}#sk-container-id-4 input.sk-toggleable__control:checked~div.sk-toggleable__content {max-height: 200px;max-width: 100%;overflow: auto;}#sk-container-id-4 input.sk-toggleable__control:checked~label.sk-toggleable__label-arrow:before {content: \"▾\";}#sk-container-id-4 div.sk-estimator input.sk-toggleable__control:checked~label.sk-toggleable__label {background-color: #d4ebff;}#sk-container-id-4 div.sk-label input.sk-toggleable__control:checked~label.sk-toggleable__label {background-color: #d4ebff;}#sk-container-id-4 input.sk-hidden--visually {border: 0;clip: rect(1px 1px 1px 1px);clip: rect(1px, 1px, 1px, 1px);height: 1px;margin: -1px;overflow: hidden;padding: 0;position: absolute;width: 1px;}#sk-container-id-4 div.sk-estimator {font-family: monospace;background-color: #f0f8ff;border: 1px dotted black;border-radius: 0.25em;box-sizing: border-box;margin-bottom: 0.5em;}#sk-container-id-4 div.sk-estimator:hover {background-color: #d4ebff;}#sk-container-id-4 div.sk-parallel-item::after {content: \"\";width: 100%;border-bottom: 1px solid gray;flex-grow: 1;}#sk-container-id-4 div.sk-label:hover label.sk-toggleable__label {background-color: #d4ebff;}#sk-container-id-4 div.sk-serial::before {content: \"\";position: absolute;border-left: 1px solid gray;box-sizing: border-box;top: 0;bottom: 0;left: 50%;z-index: 0;}#sk-container-id-4 div.sk-serial {display: flex;flex-direction: column;align-items: center;background-color: white;padding-right: 0.2em;padding-left: 0.2em;position: relative;}#sk-container-id-4 div.sk-item {position: relative;z-index: 1;}#sk-container-id-4 div.sk-parallel {display: flex;align-items: stretch;justify-content: center;background-color: white;position: relative;}#sk-container-id-4 div.sk-item::before, #sk-container-id-4 div.sk-parallel-item::before {content: \"\";position: absolute;border-left: 1px solid gray;box-sizing: border-box;top: 0;bottom: 0;left: 50%;z-index: -1;}#sk-container-id-4 div.sk-parallel-item {display: flex;flex-direction: column;z-index: 1;position: relative;background-color: white;}#sk-container-id-4 div.sk-parallel-item:first-child::after {align-self: flex-end;width: 50%;}#sk-container-id-4 div.sk-parallel-item:last-child::after {align-self: flex-start;width: 50%;}#sk-container-id-4 div.sk-parallel-item:only-child::after {width: 0;}#sk-container-id-4 div.sk-dashed-wrapped {border: 1px dashed gray;margin: 0 0.4em 0.5em 0.4em;box-sizing: border-box;padding-bottom: 0.4em;background-color: white;}#sk-container-id-4 div.sk-label label {font-family: monospace;font-weight: bold;display: inline-block;line-height: 1.2em;}#sk-container-id-4 div.sk-label-container {text-align: center;}#sk-container-id-4 div.sk-container {/* jupyter's `normalize.less` sets `[hidden] { display: none; }` but bootstrap.min.css set `[hidden] { display: none !important; }` so we also need the `!important` here to be able to override the default hidden behavior on the sphinx rendered scikit-learn.org. See: https://github.com/scikit-learn/scikit-learn/issues/21755 */display: inline-block !important;position: relative;}#sk-container-id-4 div.sk-text-repr-fallback {display: none;}</style><div id=\"sk-container-id-4\" class=\"sk-top-container\"><div class=\"sk-text-repr-fallback\"><pre>LogisticRegression()</pre><b>In a Jupyter environment, please rerun this cell to show the HTML representation or trust the notebook. <br />On GitHub, the HTML representation is unable to render, please try loading this page with nbviewer.org.</b></div><div class=\"sk-container\" hidden><div class=\"sk-item\"><div class=\"sk-estimator sk-toggleable\"><input class=\"sk-toggleable__control sk-hidden--visually\" id=\"sk-estimator-id-4\" type=\"checkbox\" checked><label for=\"sk-estimator-id-4\" class=\"sk-toggleable__label sk-toggleable__label-arrow\">LogisticRegression</label><div class=\"sk-toggleable__content\"><pre>LogisticRegression()</pre></div></div></div></div></div>"
      ],
      "text/plain": [
       "LogisticRegression()"
      ]
     },
     "execution_count": 68,
     "metadata": {},
     "output_type": "execute_result"
    }
   ],
   "source": [
    "lr.fit(df[['x']], df['y'])"
   ]
  },
  {
   "cell_type": "code",
   "execution_count": 69,
   "id": "29672d92-1983-4b38-979b-a927abb6f3a3",
   "metadata": {},
   "outputs": [],
   "source": [
    "df['lr_pred'] = lr.predict_proba(df[['x']])[:,1]"
   ]
  },
  {
   "cell_type": "code",
   "execution_count": 70,
   "id": "e8e3f411-f878-4aec-8f97-3d00a13b59ba",
   "metadata": {},
   "outputs": [
    {
     "data": {
      "text/plain": [
       "[<matplotlib.lines.Line2D at 0x164e268d0>]"
      ]
     },
     "execution_count": 70,
     "metadata": {},
     "output_type": "execute_result"
    },
    {
     "data": {
      "image/png": "[encoded data removed]",
      "text/plain": [
       "<Figure size 640x480 with 1 Axes>"
      ]
     },
     "metadata": {},
     "output_type": "display_data"
    }
   ],
   "source": [
    "x = np.linspace(-10, 10, num=1000)\n",
    "plt.grid(True)\n",
    "plt.plot(x, 1 / (1 + np.exp(-(m * x + b))))\n",
    "plt.scatter(df['x'], df['y'])\n",
    "plt.plot(x, 1 / (1 + np.exp(-(0.77324788 * x + -1.91736519))))\n"
   ]
  },
  {
   "cell_type": "code",
   "execution_count": 71,
   "id": "18d9b3ec-4fa1-4dae-9e49-16b5571692cb",
   "metadata": {},
   "outputs": [
    {
     "data": {
      "text/plain": [
       "array([[0.77324788]])"
      ]
     },
     "execution_count": 71,
     "metadata": {},
     "output_type": "execute_result"
    }
   ],
   "source": [
    "lr.coef_"
   ]
  },
  {
   "cell_type": "code",
   "execution_count": 72,
   "id": "595e7a53-27c1-41b5-90c8-3c1ce8f73f98",
   "metadata": {},
   "outputs": [
    {
     "data": {
      "text/plain": [
       "array([-1.91736519])"
      ]
     },
     "execution_count": 72,
     "metadata": {},
     "output_type": "execute_result"
    }
   ],
   "source": [
    "lr.intercept_"
   ]
  },
  {
   "cell_type": "code",
   "execution_count": 73,
   "id": "d45d8a0d-c809-46d8-9636-774e63fb9516",
   "metadata": {},
   "outputs": [
    {
     "data": {
      "image/png": "[encoded data removed]",
      "text/latex": [
       "$\\displaystyle 0.888888888888889$"
      ],
      "text/plain": [
       "0.888888888888889"
      ]
     },
     "execution_count": 73,
     "metadata": {},
     "output_type": "execute_result"
    }
   ],
   "source": [
    "roc_auc_score(df['y'], df['y_pred'])"
   ]
  },
  {
   "cell_type": "code",
   "execution_count": 74,
   "id": "d4752a5f-a346-4d87-b897-99c0c16e9bfa",
   "metadata": {},
   "outputs": [
    {
     "data": {
      "image/png": "[encoded data removed]",
      "text/latex": [
       "$\\displaystyle 0.888888888888889$"
      ],
      "text/plain": [
       "0.888888888888889"
      ]
     },
     "execution_count": 74,
     "metadata": {},
     "output_type": "execute_result"
    }
   ],
   "source": [
    "roc_auc_score(df['y'], df['lr_pred'])"
   ]
  },
  {
   "cell_type": "code",
   "execution_count": 75,
   "id": "d555b686-ed43-4b63-a166-cf02d20c6aed",
   "metadata": {},
   "outputs": [
    {
     "name": "stdout",
     "output_type": "stream",
     "text": [
      "-0.42994688588007274\n",
      "-1.2324561900423958\n",
      "-1.1729768800293485\n",
      "-1.1158375326986196\n",
      "-1.061389661122918\n",
      "-1.0100113392604009\n",
      "-0.9620922954482246\n",
      "-0.9180102625290522\n",
      "-0.8780982506584558\n",
      "-0.8426049924361464\n",
      "-0.8116544305307519\n",
      "-0.7852135467999753\n",
      "-0.7630789018078139\n",
      "-0.7448889962986659\n",
      "-0.7301621148642194\n",
      "-0.7183508370600572\n",
      "-0.7088994158360767\n",
      "-0.7012912118378302\n",
      "-0.6950789957319082\n",
      "-0.6898975286236256\n",
      "-0.6854623498830265\n",
      "-0.6815602459161861\n",
      "-0.6780362394424296\n",
      "-0.6747803944175859\n",
      "-0.6717162007937508\n",
      "-0.6687911889265886\n",
      "-0.6659697691244388\n",
      "-0.6632279868444201\n",
      "-0.6605497938674102\n",
      "-0.6579244556132795\n",
      "-0.6553447785082527\n",
      "-0.652805913476063\n",
      "-0.6503045562031969\n",
      "-0.6478384166170198\n",
      "-0.6454058689774402\n",
      "-0.6430057221061838\n",
      "-0.6406370690066673\n",
      "-0.6382991886876573\n",
      "-0.6359914821854148\n",
      "-0.6337134309266512\n",
      "-0.6314645696563554\n",
      "-0.6292444688474175\n",
      "-0.6270527232770509\n",
      "-0.6248889446116863\n",
      "-0.622752756596681\n",
      "-0.6206437919386113\n",
      "-0.6185616902874825\n",
      "-0.6165060969338172\n",
      "-0.6144766619704106\n",
      "-0.6124730397560779\n",
      "-0.6104948885755724\n",
      "-0.6085418704267616\n",
      "-0.606613650890156\n",
      "-0.6047098990514926\n",
      "-0.6028302874582329\n",
      "-0.6009744920974656\n",
      "-0.5991421923870238\n",
      "-0.5973330711744593\n",
      "-0.5955468147403608\n",
      "-0.5937831128037254\n",
      "-0.5920416585278917\n",
      "-0.5903221485260655\n",
      "-0.5886242828658247\n",
      "-0.5869477650722166\n",
      "-0.5852923021292188\n",
      "-0.5836576044794338\n",
      "-0.5820433860219602\n",
      "-0.5804493641084261\n",
      "-0.578875259537204\n",
      "-0.5773207965458432\n",
      "-0.5757857028017762\n",
      "-0.5742697093913548\n",
      "-0.5727725508072858\n",
      "-0.5712939649345371\n",
      "-0.5698336930347806\n",
      "-0.5683914797294517\n",
      "-0.5669670729814906\n",
      "-0.5655602240758411\n",
      "-0.564170687598775\n",
      "-0.562798221416113\n",
      "-0.5614425866504061\n",
      "-0.5601035476571469\n",
      "-0.55878087200007\n",
      "-0.5574743304256081\n",
      "-0.5561836968365593\n",
      "-0.5549087482650241\n",
      "-0.5536492648446697\n",
      "-0.552405029782374\n",
      "-0.5511758293292995\n",
      "-0.5499614527514488\n",
      "-0.5487616922997484\n",
      "-0.5475763431797077\n",
      "-0.5464052035206942\n",
      "-0.5452480743448708\n",
      "-0.5441047595358326\n",
      "-0.5429750658069826\n",
      "-0.5418588026696824\n",
      "-0.540755782401215\n",
      "-0.5396658200125907\n",
      "-0.5385887332162281\n",
      "-0.5375243423935431\n",
      "-0.0978645442570088\n",
      "-0.5364724705624715\n",
      "-0.5354329433449542\n",
      "-0.5344055889344119\n",
      "-0.5333902380632303\n",
      "-0.5323867239702841\n",
      "-0.5313948823685174\n",
      "-0.5304145514126046\n",
      "-0.5294455716667089\n",
      "-0.5284877860723581\n",
      "-0.5275410399164562\n",
      "-0.5266051807994444\n",
      "-0.5256800586036302\n",
      "-0.5247655254616955\n",
      "-0.5238614357253997\n",
      "-0.5229676459344907\n",
      "-0.5220840147858322\n",
      "-0.5212104031027618\n",
      "-0.5203466738046891\n",
      "-0.5194926918769404\n",
      "-0.5186483243408634\n",
      "-0.5178134402241957\n",
      "-0.5169879105317059\n",
      "-0.5161716082161164\n",
      "-0.5153644081493065\n",
      "-0.5145661870938131\n",
      "-0.5137768236746206\n",
      "-0.5129961983512559\n",
      "-0.5122241933901852\n",
      "-0.5114606928375179\n",
      "-0.5107055824920236\n",
      "-0.509958749878459\n",
      "-0.5092200842212133\n",
      "-0.5084894764182685\n",
      "-0.5077668190154788\n",
      "-0.5070520061811711\n",
      "-0.5063449336810635\n",
      "-0.5056454988535078\n",
      "-0.5049536005850502\n",
      "-0.5042691392863147\n",
      "-0.5035920168682072\n",
      "-0.5029221367184395\n",
      "-0.5022594036783724\n",
      "-0.5016037240201774\n",
      "-0.5009550054243154\n",
      "-0.5003131569573311\n",
      "-0.49967808904996264\n",
      "-0.4990497134755607\n",
      "-0.4984279433288215\n",
      "-0.49781269300482656\n",
      "-0.49720387817838857\n",
      "-0.496601415783702\n",
      "-0.49600522399429475\n",
      "-0.49541522220328\n",
      "-0.494831331003903\n",
      "-0.49425347217038285\n",
      "-0.4936815686390455\n",
      "-0.49311554448974393\n",
      "-0.49255532492756454\n",
      "-0.49200083626481644\n",
      "-0.49145200590329824\n",
      "-0.4909087623168436\n",
      "-0.490371035034138\n",
      "-0.48983875462180654\n",
      "-0.48931185266776883\n",
      "-0.48879026176485696\n",
      "-0.48827391549469445\n",
      "-0.4877627484118325\n",
      "-0.48725669602813926\n",
      "-0.48675569479744185\n",
      "-0.48625968210041376\n",
      "-0.4857685962297074\n",
      "-0.48528237637532823\n",
      "-0.4848009626102445\n",
      "-0.4843242958762339\n",
      "-0.4838523179699596\n",
      "-0.4833849715292742\n",
      "-0.4829222000197493\n",
      "-0.48246394772142565\n",
      "-0.48201015971578137\n",
      "-0.48156078187291546\n",
      "-0.4811157608389436\n",
      "-0.4806750440236012\n",
      "-0.48023857958805305\n",
      "-0.47980631643290556\n",
      "-0.4793782041864165\n",
      "-0.4789541931929036\n",
      "-0.47853423450134497\n",
      "-0.4781182798541677\n",
      "-0.4777062816762286\n",
      "-0.4772981930639741\n",
      "-0.47689396777478493\n",
      "-0.4764935602164973\n",
      "-0.476096925437101\n",
      "-0.4757040191146094\n",
      "-0.47531479754709954\n",
      "-0.47492921764292\n",
      "-0.4745472369110629\n",
      "-0.4741688134516974\n",
      "-0.4737939059468632\n",
      "-0.47342247365131995\n",
      "-0.05764529286823903\n",
      "-0.47305447638354997\n",
      "-0.4726898745169145\n",
      "-0.4723286289709563\n",
      "-0.47197070120285023\n",
      "-0.471616053198997\n",
      "-0.4712646474667597\n",
      "-0.4709164470263369\n",
      "-0.47057141540277536\n",
      "-0.4702295166181156\n",
      "-0.4698907151836693\n",
      "-0.46955497609242913\n",
      "-0.46922226481160223\n",
      "-0.46889254727527313\n",
      "-0.4685657898771875\n",
      "-0.4682419594636587\n",
      "-0.4679210233265925\n",
      "-0.4676029491966294\n",
      "-0.46728770523640195\n",
      "-0.46697526003390505\n",
      "-0.46666558259597873\n",
      "-0.46635864234189744\n",
      "-0.46605440909706947\n",
      "-0.46575285308684006\n",
      "-0.46545394493039954\n",
      "-0.4651576556347921\n",
      "-0.4648639565890256\n",
      "-0.464572819558279\n",
      "-0.4642842166782067\n",
      "-0.46399812044933864\n",
      "-0.4637145037315719\n",
      "-0.463433339738756\n",
      "-0.4631546020333664\n",
      "-0.46287826452126873\n",
      "-0.46260430144656656\n",
      "-0.46233268738653904\n",
      "-0.4620633972466581\n",
      "-0.4617964062556918\n",
      "-0.46153168996088517\n",
      "-0.4612692242232245\n",
      "-0.46100898521277633\n",
      "-0.46075094940410527\n",
      "-0.46049509357176704\n",
      "-0.4602413947858753\n",
      "-0.4599898304077414\n",
      "-0.45974037808558593\n",
      "-0.4594930157503206\n",
      "-0.459247721611399\n",
      "-0.45900447415273565\n",
      "-0.4587632521286909\n",
      "-0.4585240345601231\n",
      "-0.45828680073050293\n",
      "-0.45805153018209266\n",
      "-0.45781820271218704\n",
      "-0.4575867983694151\n",
      "-0.4573572974501025\n",
      "-0.45712968049469155\n",
      "-0.4569039282842214\n",
      "-0.4566800218368629\n",
      "-0.4564579424045105\n",
      "-0.45623767146942873\n",
      "-0.45601919074095365\n",
      "-0.4558024821522457\n",
      "-0.45558752785709616\n",
      "-0.4553743102267835\n",
      "-0.455162811846982\n",
      "-0.4549530155147172\n",
      "-0.4547449042353726\n",
      "-0.45453846121974234\n",
      "-0.4543336698811313\n",
      "-0.45413051383250186\n",
      "-0.4539289768836649\n",
      "-0.45372904303851674\n",
      "-0.453530696492318\n",
      "-0.45333392162901803\n",
      "-0.45313870301861875\n",
      "-0.4529450254145823\n",
      "-0.452752873751278\n",
      "-0.4525622331414705\n",
      "-0.4523730888738473\n",
      "-0.4521854264105836\n",
      "-0.4519992313849474\n",
      "-0.45181448959894016\n",
      "-0.45163118702097566\n",
      "-0.45144930978359427\n",
      "-0.4512688441812129\n",
      "-0.4510897766679096\n",
      "-0.4509120938552438\n",
      "-0.4507357825101079\n",
      "-0.45056082955261556\n",
      "-0.45038722205401843\n",
      "-0.45021494723465877\n",
      "-0.45004399246195065\n",
      "-0.4498743452483951\n",
      "-0.44970599324962235\n",
      "-0.44953892426246655\n",
      "-0.44937312622306963\n",
      "-0.44920858720501244\n",
      "-0.4490452954174768\n",
      "-0.4488832392034335\n",
      "-0.448722407037859\n",
      "-0.037875808412207834\n",
      "-0.44856278752597833\n",
      "-0.44840436940153644\n",
      "-0.44824714152509193\n",
      "-0.44809109288234167\n",
      "-0.4479362125824659\n",
      "-0.4477824898565009\n",
      "-0.44762991405573627\n",
      "-0.4474784746501344\n",
      "-0.44732816122677505\n",
      "-0.44717896348832276\n",
      "-0.44703087125151786\n",
      "-0.44688387444568783\n",
      "-0.44673796311128405\n",
      "-0.4465931273984367\n",
      "-0.44644935756553455\n",
      "-0.4463066439778227\n",
      "-0.4461649771060237\n",
      "-0.44602434752497677\n",
      "-0.44588474591229854\n",
      "-0.445746163047063\n",
      "-0.4456085898085007\n",
      "-0.4454720171747173\n",
      "-0.44533643622143054\n",
      "-0.4452018381207261\n",
      "-0.44506821413983083\n",
      "-0.4449355556399051\n",
      "-0.4448038540748514\n",
      "-0.44467310099014107\n",
      "-0.44454328802165755\n",
      "-0.4444144068945563\n",
      "-0.4442864494221424\n",
      "-0.44415940750476235\n",
      "-0.44403327312871305\n",
      "-0.44390803836516635\n",
      "-0.44378369536910944\n",
      "-0.4436602363782986\n",
      "-0.44353765371223003\n",
      "-0.44341593977112487\n",
      "-0.4432950870349271\n",
      "-0.4431750880623179\n",
      "-0.44305593548974254\n",
      "-0.442937622030452\n",
      "-0.4428201404735566\n",
      "-0.4427034836830956\n",
      "-0.44258764459711686\n",
      "-0.44247261622677203\n",
      "-0.44235839165542296\n",
      "-0.44224496403776065\n",
      "-0.4421323265989385\n",
      "-0.4420204726337141\n",
      "-0.4419093955056066\n",
      "-0.4417990886460635\n",
      "-0.44168954555364026\n",
      "-0.44158075979319006\n",
      "-0.44147272499506657\n",
      "-0.44136543485433616\n",
      "-0.44125888313000156\n",
      "-0.44115306364423645\n",
      "-0.4410479702816305\n",
      "-0.4409435969884441\n",
      "-0.4408399377718745\n",
      "-0.44073698669933137\n",
      "-0.44063473789772173\n",
      "-0.44053318555274584\n",
      "-0.4404323239082017\n",
      "-0.44033214726529923\n",
      "-0.4402326499819844\n",
      "-0.4401338264722718\n",
      "-0.4400356712055859\n",
      "-0.43993817870611246\n",
      "-0.43984134355215837\n",
      "-0.4397451603755185\n",
      "-0.43964962386085316\n",
      "-0.4395547287450731\n",
      "-0.43946046981673237\n",
      "-0.4393668419154298\n",
      "-0.43927383993121855\n",
      "-0.4391814588040226\n",
      "-0.4390896935230626\n",
      "-0.4389985391262882\n",
      "-0.43890799069981745\n",
      "-0.4388180433773854\n",
      "-0.438728692339798\n",
      "-0.4386399328143953\n",
      "-0.438551760074519\n",
      "-0.4384641694389897\n",
      "-0.43837715627158985\n",
      "-0.43829071598055297\n",
      "-0.43820484401806037\n",
      "-0.43811953587974434\n",
      "-0.43803478710419713\n",
      "-0.4379505932724874\n",
      "-0.43786695000768217\n",
      "-0.4377838529743749\n",
      "-0.4377012978782206\n",
      "-0.4376192804654759\n",
      "-0.4375377965225455\n",
      "-0.4374568418755344\n",
      "-0.4373764123898065\n",
      "-0.43729650396954795\n",
      "-0.02667319148575976\n",
      "-0.43721711255733586\n",
      "-0.4371382341337143\n",
      "-0.43705986471677377\n",
      "-0.4369820003617369\n",
      "-0.43690463716055006\n",
      "-0.4368277712414783\n",
      "-0.4367513987687078\n",
      "-0.4366755159419509\n",
      "-0.4366001189960589\n",
      "-0.43652520420063673\n",
      "-0.43645076785966513\n",
      "-0.4363768063111255\n",
      "-0.4363033159266316\n",
      "-0.43623029311106354\n",
      "-0.4361577343022081\n",
      "-0.4360856359704026\n",
      "-0.4360139946181844\n",
      "-0.43594280677994246\n",
      "-0.4358720690215763\n",
      "-0.435801777940157\n",
      "-0.4357319301635922\n",
      "-0.4356625223502976\n",
      "-0.43559355118887\n",
      "-0.43552501339776534\n",
      "-0.43545690572498147\n",
      "-0.4353892249477431\n",
      "-0.43532196787219285\n",
      "-0.4352551313330834\n",
      "-0.4351887121934763\n",
      "-0.43512270734444214\n",
      "-0.4350571137047652\n",
      "-0.4349919282206529\n",
      "-0.43492714786544573\n",
      "-0.43486276963933457\n",
      "-0.43479879056907883\n",
      "-0.4347352077077275\n",
      "-0.43467201813434664\n",
      "-0.4346092189537471\n",
      "-0.4345468072962171\n",
      "-0.43448478031725735\n",
      "-0.4344231351973195\n",
      "-0.43436186914154873\n",
      "-0.4343009793795271\n",
      "-0.4342404631650229\n",
      "-0.4341803177757401\n",
      "-0.43412054051307347\n",
      "-0.43406112870186425\n",
      "-0.43400207969016047\n",
      "-0.43394339084897887\n",
      "-0.43388505957207085\n",
      "-0.43382708327569025\n",
      "-0.4337694593983638\n",
      "-0.43371218540066514\n",
      "-0.4336552587649907\n",
      "-0.4335986769953386\n",
      "-0.4335424376170904\n",
      "-0.4334865381767939\n",
      "-0.43343097624195126\n",
      "-0.4333757494008066\n",
      "-0.4333208552621381\n",
      "-0.4332662914550514\n",
      "-0.433212055628777\n",
      "-0.43315814545246695\n",
      "-0.43310455861499775\n",
      "-0.4330512928247722\n",
      "-0.4329983458095256\n",
      "-0.4329457153161335\n",
      "-0.43289339911042096\n",
      "-0.4328413949769761\n",
      "-0.43278970071896267\n",
      "-0.4327383141579382\n",
      "-0.432687233133671\n",
      "-0.43263645550396196\n",
      "-0.43258597914446656\n",
      "-0.4325358019485197\n",
      "-0.4324859218269624\n",
      "-0.4324363367079702\n",
      "-0.432387044536884\n",
      "-0.4323380432760426\n",
      "-0.4322893309046168\n",
      "-0.4322409054184459\n",
      "-0.4321927648298755\n",
      "-0.4321449071675975\n",
      "-0.4320973304764922\n",
      "-0.4320500328174713\n",
      "-0.4320030122673231\n",
      "-0.43195626691856015\n",
      "-0.43190979487926673\n",
      "-0.43186359427295035\n",
      "-0.4318176632383934\n",
      "-0.43177199992950627\n",
      "-0.43172660251518363\n",
      "-0.4316814691791601\n",
      "-0.4316365981198698\n",
      "-0.43159198755030626\n",
      "-0.43154763569788296\n",
      "-0.4315035408042975\n",
      "-0.431459701125396\n",
      "-0.431416114931039\n",
      "-0.43137278050496874\n"
     ]
    }
   ],
   "source": [
    "# df = df[['x', 'y']].copy()\n",
    "m, b = 1,1\n",
    "n = 500\n",
    "learning_rate = 0.1\n",
    "df['y_pred'] = 1 / (1 + np.exp(-(m * df['x'] + b)))\n",
    "\n",
    "for i in range(n):\n",
    "    df['err'] = df['y'] - df['y_pred']\n",
    "\n",
    "    if not i % 100:\n",
    "        print(df['err'].mean())\n",
    "   \n",
    "    df['m_change'] = df['x']*df['err']\n",
    "    df['b_change'] = df['err']\n",
    "\n",
    "    m += learning_rate * df['m_change'].mean()\n",
    "    b += learning_rate * df['b_change'].mean()\n",
    "\n",
    "    df['y_pred'] = 1 / (1 + np.exp(-(m * df['x'] + b)))\n",
    "   \n",
    "    # if df['err'].mean() < (df['y'] - df['y_pred']).mean():\n",
    "    #     m -= df['m_change'].mean()\n",
    "    #     b -= df['b_change'].mean()\n",
    "    #     break\n",
    "    \n",
    "    df['l'] = df['y'] * np.log(df['y_pred']) + (1 - df['y']) * np.log(1 - df['y_pred'])\n",
    "    print(df['l'].mean())\n"
   ]
  },
  {
   "cell_type": "code",
   "execution_count": 76,
   "id": "a99b87c9-c90f-433e-b053-46eedb242b58",
   "metadata": {},
   "outputs": [
    {
     "data": {
      "text/plain": [
       "[<matplotlib.lines.Line2D at 0x164ed5590>]"
      ]
     },
     "execution_count": 76,
     "metadata": {},
     "output_type": "execute_result"
    },
    {
     "data": {
      "image/png": "[encoded data removed]",
      "text/plain": [
       "<Figure size 640x480 with 1 Axes>"
      ]
     },
     "metadata": {},
     "output_type": "display_data"
    }
   ],
   "source": [
    "x = np.linspace(-10, 10, num=1000)\n",
    "plt.grid(True)\n",
    "plt.plot(x, 1 / (1 + np.exp(-(m * x + b))))\n",
    "plt.scatter(df['x'], df['y'])\n",
    "plt.plot(x, 1 / (1 + np.exp(-(0.77324788 * x + -1.91736519))))\n"
   ]
  }
 ],
 "metadata": {
  "kernelspec": {
   "display_name": "Python 3 (ipykernel)",
   "language": "python",
   "name": "python3"
  },
  "language_info": {
   "codemirror_mode": {
    "name": "ipython",
    "version": 3
   },
   "file_extension": ".py",
   "mimetype": "text/x-python",
   "name": "python",
   "nbconvert_exporter": "python",
   "pygments_lexer": "ipython3",
   "version": "3.11.5"
  }
 },
 "nbformat": 4,
 "nbformat_minor": 5
}
